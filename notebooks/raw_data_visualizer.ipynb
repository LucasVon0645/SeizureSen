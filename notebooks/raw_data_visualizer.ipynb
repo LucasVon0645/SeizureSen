{
 "cells": [
  {
   "cell_type": "markdown",
   "metadata": {},
   "source": [
    "## Raw data visualizer"
   ]
  },
  {
   "cell_type": "code",
   "execution_count": 1,
   "metadata": {},
   "outputs": [],
   "source": [
    "import scipy"
   ]
  },
  {
   "cell_type": "code",
   "execution_count": 2,
   "metadata": {},
   "outputs": [],
   "source": [
    "def extract_eeg_from_specific_file(file_name):\n",
    "    \"\"\"\n",
    "    Load a single .mat file, extract its EEG and metadata.\n",
    "    :param file_path: Path to .mat file\n",
    "    :return: A dictionary containing EEG data and associated metadata.\n",
    "    \"\"\"\n",
    "    mat_data = scipy.io.loadmat(file_name)\n",
    "    key = next(key for key in mat_data.keys() if \"segment\" in key)\n",
    "    segment = mat_data[key][0, 0]\n",
    "\n",
    "    if \"interictal\" in file_name:\n",
    "        segment_type = \"interictal\"\n",
    "        labels = None\n",
    "    elif \"preictal\" in file_name:\n",
    "        segment_type = \"preictal\"\n",
    "        labels = None\n",
    "    else:\n",
    "        segment_type = \"test\"\n",
    "        labels = segment[\"labels\"]\n",
    "\n",
    "    # Extracting data and metadata from the wrapped nested structure\n",
    "\n",
    "    eeg_data = segment[\"data\"]\n",
    "    if labels is not None:\n",
    "        labels = labels[0,:].astype(int).tolist()\n",
    "    data_length = int(segment[\"data_length_sec\"][0, 0])\n",
    "    sampling_frequency = float(segment[\"sampling_frequency\"][0, 0])\n",
    "    channels = segment[\"channels\"]\n",
    "    channels = channels.flatten().tolist()\n",
    "    \n",
    "    channels = [str(channel[0])[-4:] for channel in channels]\n",
    "\n",
    "    return {\n",
    "        \"eeg_data\": eeg_data,\n",
    "        \"labels\": labels,\n",
    "        \"metadata\": {\n",
    "            \"type\": segment_type,\n",
    "            \"duration\": data_length,\n",
    "            \"sampling_frequency\": sampling_frequency,\n",
    "            \"channels\": channels\n",
    "            }\n",
    "    }"
   ]
  },
  {
   "cell_type": "code",
   "execution_count": 3,
   "metadata": {},
   "outputs": [
    {
     "data": {
      "text/plain": [
       "{'eeg_data': array([[  0,  13,  15, ..., -25, -21, -12],\n",
       "        [-26,  -4,  11, ..., -39, -32, -21],\n",
       "        [-42, -35, -19, ..., -16, -16, -18],\n",
       "        ...,\n",
       "        [ 45,  30,  25, ...,  43,  28,  17],\n",
       "        [ 15,   8,  -6, ...,  14,  13,   6],\n",
       "        [-18, -20, -19, ...,   9,   9,   3]], dtype=int16),\n",
       " 'labels': None,\n",
       " 'metadata': {'type': 'interictal',\n",
       "  'duration': 600,\n",
       "  'sampling_frequency': 399.609756097561,\n",
       "  'channels': ['c001',\n",
       "   'c002',\n",
       "   'c003',\n",
       "   'c004',\n",
       "   'c005',\n",
       "   'c006',\n",
       "   'c007',\n",
       "   'c008',\n",
       "   'c009',\n",
       "   'c010',\n",
       "   'c011',\n",
       "   'c012',\n",
       "   'c013',\n",
       "   'c014',\n",
       "   'c015',\n",
       "   'c016']}}"
      ]
     },
     "execution_count": 3,
     "metadata": {},
     "output_type": "execute_result"
    }
   ],
   "source": [
    "FILENAME = \"Dog_1_interictal_segment_0001.mat\"\n",
    "file_path = \"./../data/Dog_1/\" + FILENAME\n",
    "\n",
    "extract_eeg_from_specific_file(file_path)"
   ]
  },
  {
   "cell_type": "code",
   "execution_count": 5,
   "metadata": {},
   "outputs": [
    {
     "data": {
      "text/plain": [
       "{'eeg_data': array([[-92, -88, -89, ...,  42,  30,   5],\n",
       "        [-36, -54, -61, ...,  12,  10,  13],\n",
       "        [-20, -16, -12, ..., -25, -29, -26],\n",
       "        ...,\n",
       "        [ 43,  42,  40, ..., -13,  -5,  -7],\n",
       "        [ 45,  34,  31, ...,   7,   5,   1],\n",
       "        [ 59,  49,  33, ...,  -6,  -1,   3]], dtype=int16),\n",
       " 'labels': [0, 1],\n",
       " 'metadata': {'type': 'test',\n",
       "  'duration': 1200,\n",
       "  'sampling_frequency': 399.609756097561,\n",
       "  'channels': ['c001',\n",
       "   'c002',\n",
       "   'c003',\n",
       "   'c004',\n",
       "   'c005',\n",
       "   'c006',\n",
       "   'c007',\n",
       "   'c008',\n",
       "   'c009',\n",
       "   'c010',\n",
       "   'c011',\n",
       "   'c012',\n",
       "   'c013',\n",
       "   'c014',\n",
       "   'c015',\n",
       "   'c016']}}"
      ]
     },
     "execution_count": 5,
     "metadata": {},
     "output_type": "execute_result"
    }
   ],
   "source": [
    "FILENAME = \"..\\\\data\\\\FrontEndDemo\\\\Dog_1_combined_segments_20_21_with_labels.mat\"\n",
    "\n",
    "extract_eeg_from_specific_file(FILENAME)"
   ]
  }
 ],
 "metadata": {
  "kernelspec": {
   "display_name": "venv",
   "language": "python",
   "name": "python3"
  },
  "language_info": {
   "codemirror_mode": {
    "name": "ipython",
    "version": 3
   },
   "file_extension": ".py",
   "mimetype": "text/x-python",
   "name": "python",
   "nbconvert_exporter": "python",
   "pygments_lexer": "ipython3",
   "version": "3.11.5"
  }
 },
 "nbformat": 4,
 "nbformat_minor": 2
}
